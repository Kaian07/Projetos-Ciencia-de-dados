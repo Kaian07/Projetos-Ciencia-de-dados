{
 "cells": [
  {
   "cell_type": "markdown",
   "id": "69cad638",
   "metadata": {},
   "source": [
    "# Tratamento de dados e limpeza de dados para montar posteriormente um modelo de Machine Learning para saber os dias que poderá haver jogo.\n",
    "\n",
    "#### Dominio da base de dados (\"Regras de negócio da base\"):\n",
    "    - Aparência: sol, nublado, chuva.\n",
    "    - Temperatura: -130F ~ 130F (\"A temperatura da base é representada em fahrenheit\")\n",
    "    - Umidade: 0 ~ 100\n",
    "    - Jogar: sim/nao (Posteriormente será o nosso target do modelo de aprendizagem de máquina)"
   ]
  },
  {
   "cell_type": "code",
   "execution_count": 1,
   "id": "015c0946",
   "metadata": {},
   "outputs": [],
   "source": [
    "import pandas as pd\n",
    "import seaborn as sns\n",
    "import statistics as sts"
   ]
  },
  {
   "cell_type": "code",
   "execution_count": 2,
   "id": "dd41ce42",
   "metadata": {},
   "outputs": [
    {
     "data": {
      "text/html": [
       "<div>\n",
       "<style scoped>\n",
       "    .dataframe tbody tr th:only-of-type {\n",
       "        vertical-align: middle;\n",
       "    }\n",
       "\n",
       "    .dataframe tbody tr th {\n",
       "        vertical-align: top;\n",
       "    }\n",
       "\n",
       "    .dataframe thead th {\n",
       "        text-align: right;\n",
       "    }\n",
       "</style>\n",
       "<table border=\"1\" class=\"dataframe\">\n",
       "  <thead>\n",
       "    <tr style=\"text-align: right;\">\n",
       "      <th></th>\n",
       "      <th>Aparencia</th>\n",
       "      <th>Temperatura</th>\n",
       "      <th>Umidade</th>\n",
       "      <th>Vento</th>\n",
       "      <th>Jogar</th>\n",
       "    </tr>\n",
       "  </thead>\n",
       "  <tbody>\n",
       "    <tr>\n",
       "      <th>0</th>\n",
       "      <td>sol</td>\n",
       "      <td>85</td>\n",
       "      <td>85.0</td>\n",
       "      <td>FALSO</td>\n",
       "      <td>nao</td>\n",
       "    </tr>\n",
       "    <tr>\n",
       "      <th>1</th>\n",
       "      <td>sol</td>\n",
       "      <td>80</td>\n",
       "      <td>90.0</td>\n",
       "      <td>VERDADEIRO</td>\n",
       "      <td>nao</td>\n",
       "    </tr>\n",
       "    <tr>\n",
       "      <th>2</th>\n",
       "      <td>nublado</td>\n",
       "      <td>83</td>\n",
       "      <td>86.0</td>\n",
       "      <td>FALSO</td>\n",
       "      <td>sim</td>\n",
       "    </tr>\n",
       "    <tr>\n",
       "      <th>3</th>\n",
       "      <td>chuva</td>\n",
       "      <td>70</td>\n",
       "      <td>NaN</td>\n",
       "      <td>FALSO</td>\n",
       "      <td>sim</td>\n",
       "    </tr>\n",
       "    <tr>\n",
       "      <th>4</th>\n",
       "      <td>chuva</td>\n",
       "      <td>68</td>\n",
       "      <td>80.0</td>\n",
       "      <td>FALSO</td>\n",
       "      <td>sim</td>\n",
       "    </tr>\n",
       "  </tbody>\n",
       "</table>\n",
       "</div>"
      ],
      "text/plain": [
       "  Aparencia  Temperatura  Umidade       Vento Jogar\n",
       "0       sol           85     85.0       FALSO   nao\n",
       "1       sol           80     90.0  VERDADEIRO   nao\n",
       "2   nublado           83     86.0       FALSO   sim\n",
       "3     chuva           70      NaN       FALSO   sim\n",
       "4     chuva           68     80.0       FALSO   sim"
      ]
     },
     "execution_count": 2,
     "metadata": {},
     "output_type": "execute_result"
    }
   ],
   "source": [
    "# Importando a base de dados para meu dataframe base.\n",
    "base = pd.read_csv('tempo.csv', sep = ';')\n",
    "# Vizualizando a base de dados\n",
    "base.head()"
   ]
  },
  {
   "cell_type": "code",
   "execution_count": 3,
   "id": "0cfe5075",
   "metadata": {},
   "outputs": [
    {
     "data": {
      "text/html": [
       "<div>\n",
       "<style scoped>\n",
       "    .dataframe tbody tr th:only-of-type {\n",
       "        vertical-align: middle;\n",
       "    }\n",
       "\n",
       "    .dataframe tbody tr th {\n",
       "        vertical-align: top;\n",
       "    }\n",
       "\n",
       "    .dataframe thead th {\n",
       "        text-align: right;\n",
       "    }\n",
       "</style>\n",
       "<table border=\"1\" class=\"dataframe\">\n",
       "  <thead>\n",
       "    <tr style=\"text-align: right;\">\n",
       "      <th></th>\n",
       "      <th>Aparencia</th>\n",
       "      <th>Temperatura</th>\n",
       "      <th>Umidade</th>\n",
       "      <th>Vento</th>\n",
       "      <th>Jogar</th>\n",
       "    </tr>\n",
       "  </thead>\n",
       "  <tbody>\n",
       "    <tr>\n",
       "      <th>9</th>\n",
       "      <td>chuva</td>\n",
       "      <td>75</td>\n",
       "      <td>200.0</td>\n",
       "      <td>NaN</td>\n",
       "      <td>sim</td>\n",
       "    </tr>\n",
       "    <tr>\n",
       "      <th>10</th>\n",
       "      <td>sol</td>\n",
       "      <td>75</td>\n",
       "      <td>70.0</td>\n",
       "      <td>VERDADEIRO</td>\n",
       "      <td>sim</td>\n",
       "    </tr>\n",
       "    <tr>\n",
       "      <th>11</th>\n",
       "      <td>nublado</td>\n",
       "      <td>72</td>\n",
       "      <td>90.0</td>\n",
       "      <td>VERDADEIRO</td>\n",
       "      <td>sim</td>\n",
       "    </tr>\n",
       "    <tr>\n",
       "      <th>12</th>\n",
       "      <td>nublado</td>\n",
       "      <td>81</td>\n",
       "      <td>75.0</td>\n",
       "      <td>FALSO</td>\n",
       "      <td>sim</td>\n",
       "    </tr>\n",
       "    <tr>\n",
       "      <th>13</th>\n",
       "      <td>chuva</td>\n",
       "      <td>71</td>\n",
       "      <td>91.0</td>\n",
       "      <td>VERDADEIRO</td>\n",
       "      <td>nao</td>\n",
       "    </tr>\n",
       "  </tbody>\n",
       "</table>\n",
       "</div>"
      ],
      "text/plain": [
       "   Aparencia  Temperatura  Umidade       Vento Jogar\n",
       "9      chuva           75    200.0         NaN   sim\n",
       "10       sol           75     70.0  VERDADEIRO   sim\n",
       "11   nublado           72     90.0  VERDADEIRO   sim\n",
       "12   nublado           81     75.0       FALSO   sim\n",
       "13     chuva           71     91.0  VERDADEIRO   nao"
      ]
     },
     "execution_count": 3,
     "metadata": {},
     "output_type": "execute_result"
    }
   ],
   "source": [
    "# conhecendo melhor a base.\n",
    "base.tail()"
   ]
  },
  {
   "cell_type": "code",
   "execution_count": 5,
   "id": "095e6536",
   "metadata": {},
   "outputs": [
    {
     "data": {
      "text/html": [
       "<div>\n",
       "<style scoped>\n",
       "    .dataframe tbody tr th:only-of-type {\n",
       "        vertical-align: middle;\n",
       "    }\n",
       "\n",
       "    .dataframe tbody tr th {\n",
       "        vertical-align: top;\n",
       "    }\n",
       "\n",
       "    .dataframe thead th {\n",
       "        text-align: right;\n",
       "    }\n",
       "</style>\n",
       "<table border=\"1\" class=\"dataframe\">\n",
       "  <thead>\n",
       "    <tr style=\"text-align: right;\">\n",
       "      <th></th>\n",
       "      <th>Temperatura</th>\n",
       "      <th>Umidade</th>\n",
       "    </tr>\n",
       "  </thead>\n",
       "  <tbody>\n",
       "    <tr>\n",
       "      <th>count</th>\n",
       "      <td>14.000000</td>\n",
       "      <td>13.000000</td>\n",
       "    </tr>\n",
       "    <tr>\n",
       "      <th>mean</th>\n",
       "      <td>155.571429</td>\n",
       "      <td>89.769231</td>\n",
       "    </tr>\n",
       "    <tr>\n",
       "      <th>std</th>\n",
       "      <td>306.433759</td>\n",
       "      <td>34.540203</td>\n",
       "    </tr>\n",
       "    <tr>\n",
       "      <th>min</th>\n",
       "      <td>64.000000</td>\n",
       "      <td>65.000000</td>\n",
       "    </tr>\n",
       "    <tr>\n",
       "      <th>25%</th>\n",
       "      <td>69.250000</td>\n",
       "      <td>70.000000</td>\n",
       "    </tr>\n",
       "    <tr>\n",
       "      <th>50%</th>\n",
       "      <td>73.500000</td>\n",
       "      <td>85.000000</td>\n",
       "    </tr>\n",
       "    <tr>\n",
       "      <th>75%</th>\n",
       "      <td>80.750000</td>\n",
       "      <td>90.000000</td>\n",
       "    </tr>\n",
       "    <tr>\n",
       "      <th>max</th>\n",
       "      <td>1220.000000</td>\n",
       "      <td>200.000000</td>\n",
       "    </tr>\n",
       "  </tbody>\n",
       "</table>\n",
       "</div>"
      ],
      "text/plain": [
       "       Temperatura     Umidade\n",
       "count    14.000000   13.000000\n",
       "mean    155.571429   89.769231\n",
       "std     306.433759   34.540203\n",
       "min      64.000000   65.000000\n",
       "25%      69.250000   70.000000\n",
       "50%      73.500000   85.000000\n",
       "75%      80.750000   90.000000\n",
       "max    1220.000000  200.000000"
      ]
     },
     "execution_count": 5,
     "metadata": {},
     "output_type": "execute_result"
    }
   ],
   "source": [
    "base.describe()"
   ]
  },
  {
   "cell_type": "code",
   "execution_count": 6,
   "id": "8908f9e9",
   "metadata": {},
   "outputs": [
    {
     "name": "stdout",
     "output_type": "stream",
     "text": [
      "<class 'pandas.core.frame.DataFrame'>\n",
      "RangeIndex: 14 entries, 0 to 13\n",
      "Data columns (total 5 columns):\n",
      " #   Column       Non-Null Count  Dtype  \n",
      "---  ------       --------------  -----  \n",
      " 0   Aparencia    14 non-null     object \n",
      " 1   Temperatura  14 non-null     int64  \n",
      " 2   Umidade      13 non-null     float64\n",
      " 3   Vento        13 non-null     object \n",
      " 4   Jogar        14 non-null     object \n",
      "dtypes: float64(1), int64(1), object(3)\n",
      "memory usage: 688.0+ bytes\n"
     ]
    }
   ],
   "source": [
    "base.info()"
   ]
  },
  {
   "cell_type": "markdown",
   "id": "63f361da",
   "metadata": {},
   "source": [
    "## Verificamos que temos 1 valor nulo na coluna Umidade e 1 valor nulo na coluna Vento.\n",
    "\n",
    "###   Column       Non-Null Count  Dtype  \n",
    "---  ------       --------------  -----  \n",
    " 0   Aparencia    14 non-null     object<br> \n",
    " 1   Temperatura  14 non-null     int64 <br>\n",
    " **2   Umidade      13 non-null     float64 <br>\n",
    " 3   Vento        13 non-null     object** <br>\n",
    " 4   Jogar        14 non-null     object <br>"
   ]
  },
  {
   "cell_type": "markdown",
   "id": "9d197fd5",
   "metadata": {},
   "source": [
    "## Explorando dados de cada coluna:"
   ]
  },
  {
   "cell_type": "code",
   "execution_count": 12,
   "id": "605a5b8c",
   "metadata": {},
   "outputs": [
    {
     "data": {
      "text/plain": [
       "Aparencia\n",
       "chuva      5\n",
       "menos      1\n",
       "nublado    3\n",
       "sol        5\n",
       "dtype: int64"
      ]
     },
     "execution_count": 12,
     "metadata": {},
     "output_type": "execute_result"
    }
   ],
   "source": [
    "# 1ª coluna é 'Aparencia' que são dados de valor categóricos: \n",
    "aparencia = base.groupby(['Aparencia']).size()\n",
    "aparencia"
   ]
  },
  {
   "cell_type": "code",
   "execution_count": 14,
   "id": "9ec3201b",
   "metadata": {},
   "outputs": [
    {
     "data": {
      "image/png": "[encoded data removed]",
      "text/plain": [
       "<Figure size 432x288 with 1 Axes>"
      ]
     },
     "metadata": {
      "needs_background": "light"
     },
     "output_type": "display_data"
    }
   ],
   "source": [
    "# Análisando gráficamente\n",
    "aparencia.plot.bar(color='gray');"
   ]
  },
  {
   "cell_type": "markdown",
   "id": "41d205e4",
   "metadata": {},
   "source": [
    "**Já vemos que temos um valor que não se encaixa no domínio da base de dados que é \"menos\"**"
   ]
  },
  {
   "cell_type": "code",
   "execution_count": 11,
   "id": "ec9887e2",
   "metadata": {},
   "outputs": [
    {
     "data": {
      "text/plain": [
       "count      14.000000\n",
       "mean      155.571429\n",
       "std       306.433759\n",
       "min        64.000000\n",
       "25%        69.250000\n",
       "50%        73.500000\n",
       "75%        80.750000\n",
       "max      1220.000000\n",
       "Name: Temperatura, dtype: float64"
      ]
     },
     "execution_count": 11,
     "metadata": {},
     "output_type": "execute_result"
    }
   ],
   "source": [
    "# 2ª coluna é \"Temperatura\" que são dados de valor numérico:\n",
    "temperatura = base['Temperatura'].describe()\n",
    "temperatura"
   ]
  },
  {
   "cell_type": "markdown",
   "id": "b0789f1c",
   "metadata": {},
   "source": [
    "**Vemos que o valor máximo '1220' foge do valor do domínio de temperatura, analisando vemos que o valor da média é o dobro do valor da mediana ou seja os dados podem não estar muito bem distribuídos**"
   ]
  },
  {
   "cell_type": "code",
   "execution_count": 22,
   "id": "3808c740",
   "metadata": {},
   "outputs": [
    {
     "data": {
      "text/plain": [
       "Text(0.5, 1.0, 'Temperatura')"
      ]
     },
     "execution_count": 22,
     "metadata": {},
     "output_type": "execute_result"
    },
    {
     "data": {
      "image/png": "[encoded data removed]",
      "text/plain": [
       "<Figure size 432x288 with 1 Axes>"
      ]
     },
     "metadata": {
      "needs_background": "light"
     },
     "output_type": "display_data"
    }
   ],
   "source": [
    "# Análisando gráficamente\n",
    "sns.boxplot(x=base['Temperatura']).set_title(\"Temperatura\")\n",
    "# Vemos que Boxplot nos mostra apenas um valor outlier"
   ]
  },
  {
   "cell_type": "code",
   "execution_count": 47,
   "id": "cd28e3f6",
   "metadata": {},
   "outputs": [
    {
     "data": {
      "image/png": "[encoded data removed]",
      "text/plain": [
       "<Figure size 360x360 with 1 Axes>"
      ]
     },
     "metadata": {
      "needs_background": "light"
     },
     "output_type": "display_data"
    }
   ],
   "source": [
    "# Usando um histograma para ver melhor os dados:\n",
    "sns.displot(base, x=\"Temperatura\", kde=True);\n",
    "# Vemos que o valor outlier atrapalha a vizualização dos valores no gráfico e provavelmente temos apenas um valor de 1220.\n",
    "# Então provavelmente esse valor de 1220 é tão grande que pode estar influenciando o valor da média."
   ]
  },
  {
   "cell_type": "code",
   "execution_count": 38,
   "id": "497257d8",
   "metadata": {},
   "outputs": [
    {
     "data": {
      "text/plain": [
       "count     13.000000\n",
       "mean      89.769231\n",
       "std       34.540203\n",
       "min       65.000000\n",
       "25%       70.000000\n",
       "50%       85.000000\n",
       "75%       90.000000\n",
       "max      200.000000\n",
       "Name: Umidade, dtype: float64"
      ]
     },
     "execution_count": 38,
     "metadata": {},
     "output_type": "execute_result"
    }
   ],
   "source": [
    "# 3ª coluna é \"Umidade\" que são dados de valor numérico:\n",
    "umidade = base['Umidade'].describe()\n",
    "umidade"
   ]
  },
  {
   "cell_type": "markdown",
   "id": "95a96694",
   "metadata": {},
   "source": [
    "**Vemos que apresenta o mesmo problema da coluna 'Temperatura'.\n",
    "Temos o valor máximo de 200 sendo que pelo domínio da base o valor máximo de Umidade é de 100.\n",
    "Além de termos visto que essa coluna apresenta um valor nulo**"
   ]
  },
  {
   "cell_type": "code",
   "execution_count": 42,
   "id": "ccac7850",
   "metadata": {},
   "outputs": [
    {
     "data": {
      "text/plain": [
       "1"
      ]
     },
     "execution_count": 42,
     "metadata": {},
     "output_type": "execute_result"
    }
   ],
   "source": [
    "# confirmando quantos valores nulos a coluna apresenta.\n",
    "base['Umidade'].isnull().sum()"
   ]
  },
  {
   "cell_type": "code",
   "execution_count": 52,
   "id": "d032720a",
   "metadata": {},
   "outputs": [
    {
     "data": {
      "image/png": "[encoded data removed]",
      "text/plain": [
       "<Figure size 432x288 with 1 Axes>"
      ]
     },
     "metadata": {
      "needs_background": "light"
     },
     "output_type": "display_data"
    }
   ],
   "source": [
    "# Análisando Gráficamente\n",
    "sns.boxplot(x=base['Umidade']).set_title(\"Umidade\");\n",
    "# Nesse caso podemos ver que há apenas um outliers e ele não chega \n",
    "# a deformar nosso gráfico igual o que acontece com a coluna Temperatura"
   ]
  },
  {
   "cell_type": "code",
   "execution_count": 54,
   "id": "7e96967d",
   "metadata": {},
   "outputs": [
    {
     "data": {
      "image/png": "[encoded data removed]",
      "text/plain": [
       "<Figure size 360x360 with 1 Axes>"
      ]
     },
     "metadata": {
      "needs_background": "light"
     },
     "output_type": "display_data"
    }
   ],
   "source": [
    "sns.displot(base, x=\"Umidade\", kde=True);\n",
    "# Confirmamos que a apenas 1 valor outlier."
   ]
  },
  {
   "cell_type": "code",
   "execution_count": 57,
   "id": "28b6de6b",
   "metadata": {},
   "outputs": [
    {
     "data": {
      "text/plain": [
       "Vento\n",
       "FALSO         7\n",
       "VERDADEIRO    6\n",
       "dtype: int64"
      ]
     },
     "execution_count": 57,
     "metadata": {},
     "output_type": "execute_result"
    }
   ],
   "source": [
    "# 4ª coluna é \"Vento\" que são dados de valor categóricos\n",
    "vento = base.groupby(['Vento']).size()\n",
    "vento"
   ]
  },
  {
   "cell_type": "markdown",
   "id": "895055bb",
   "metadata": {},
   "source": [
    "**Vemos que essa coluna é de valor categórico e com apenas 2 categorias verdadeiro e falso. E também lembramos que é uma coluna com 1 valor nulo**"
   ]
  },
  {
   "cell_type": "code",
   "execution_count": 59,
   "id": "31b4ffdd",
   "metadata": {},
   "outputs": [
    {
     "data": {
      "image/png": "[encoded data removed]",
      "text/plain": [
       "<Figure size 432x288 with 1 Axes>"
      ]
     },
     "metadata": {
      "needs_background": "light"
     },
     "output_type": "display_data"
    }
   ],
   "source": [
    "vento.plot.barh(color='gray');"
   ]
  },
  {
   "cell_type": "markdown",
   "id": "5842f661",
   "metadata": {},
   "source": [
    "### A última coluna seria o target do nosso modelo então não iremos mexer nela no momento.\n",
    "# Agora iremos tratar dos dados de cada coluna iniciando pela coluna 'Aparencia'"
   ]
  },
  {
   "cell_type": "code",
   "execution_count": 60,
   "id": "3263a87c",
   "metadata": {},
   "outputs": [
    {
     "data": {
      "text/plain": [
       "Aparencia\n",
       "chuva      5\n",
       "menos      1\n",
       "nublado    3\n",
       "sol        5\n",
       "dtype: int64"
      ]
     },
     "execution_count": 60,
     "metadata": {},
     "output_type": "execute_result"
    }
   ],
   "source": [
    "# lembrando como dos dados:\n",
    "aparencia"
   ]
  },
  {
   "cell_type": "code",
   "execution_count": 63,
   "id": "9349bfab",
   "metadata": {},
   "outputs": [
    {
     "data": {
      "text/html": [
       "<div>\n",
       "<style scoped>\n",
       "    .dataframe tbody tr th:only-of-type {\n",
       "        vertical-align: middle;\n",
       "    }\n",
       "\n",
       "    .dataframe tbody tr th {\n",
       "        vertical-align: top;\n",
       "    }\n",
       "\n",
       "    .dataframe thead th {\n",
       "        text-align: right;\n",
       "    }\n",
       "</style>\n",
       "<table border=\"1\" class=\"dataframe\">\n",
       "  <thead>\n",
       "    <tr style=\"text-align: right;\">\n",
       "      <th></th>\n",
       "      <th>Aparencia</th>\n",
       "      <th>Temperatura</th>\n",
       "      <th>Umidade</th>\n",
       "      <th>Vento</th>\n",
       "      <th>Jogar</th>\n",
       "    </tr>\n",
       "  </thead>\n",
       "  <tbody>\n",
       "    <tr>\n",
       "      <th>6</th>\n",
       "      <td>menos</td>\n",
       "      <td>64</td>\n",
       "      <td>65.0</td>\n",
       "      <td>VERDADEIRO</td>\n",
       "      <td>sim</td>\n",
       "    </tr>\n",
       "  </tbody>\n",
       "</table>\n",
       "</div>"
      ],
      "text/plain": [
       "  Aparencia  Temperatura  Umidade       Vento Jogar\n",
       "6     menos           64     65.0  VERDADEIRO   sim"
      ]
     },
     "execution_count": 63,
     "metadata": {},
     "output_type": "execute_result"
    }
   ],
   "source": [
    "# Como é uma coluna de dados categóricos iremos subistituir o valor 'menos' \n",
    "# pela moda da coluna que seriam os valores 'chuva' e 'sol'.\n",
    "# Vamos analisar mais a fundo para decidir qual valor iremos substituir.\n",
    "base[base['Aparencia'] == 'menos']"
   ]
  },
  {
   "cell_type": "markdown",
   "id": "aa8f1421",
   "metadata": {},
   "source": [
    "**Como vemos que na coluna \"Jogar\" apresenta sim, então entre sol e chuva é mais provavel que a aparencia seja sol.**"
   ]
  },
  {
   "cell_type": "code",
   "execution_count": 66,
   "id": "91eff5ff",
   "metadata": {},
   "outputs": [
    {
     "data": {
      "text/plain": [
       "Aparencia\n",
       "chuva      5\n",
       "nublado    3\n",
       "sol        6\n",
       "dtype: int64"
      ]
     },
     "execution_count": 66,
     "metadata": {},
     "output_type": "execute_result"
    }
   ],
   "source": [
    "# Substituindo valor \"menos\" pelo valor \"sol\".\n",
    "base.loc[base['Aparencia'] == 'menos', 'Aparencia'] = 'sol'\n",
    "aparencia = base.groupby(['Aparencia']).size()\n",
    "aparencia"
   ]
  },
  {
   "cell_type": "code",
   "execution_count": 67,
   "id": "aeea1c21",
   "metadata": {},
   "outputs": [
    {
     "data": {
      "text/plain": [
       "count      14.000000\n",
       "mean      155.571429\n",
       "std       306.433759\n",
       "min        64.000000\n",
       "25%        69.250000\n",
       "50%        73.500000\n",
       "75%        80.750000\n",
       "max      1220.000000\n",
       "Name: Temperatura, dtype: float64"
      ]
     },
     "execution_count": 67,
     "metadata": {},
     "output_type": "execute_result"
    }
   ],
   "source": [
    "# Trantando 2ª coluna 'Temperatura'\n",
    "# Relembrando os dados\n",
    "temperatura"
   ]
  },
  {
   "cell_type": "code",
   "execution_count": 68,
   "id": "4ef0e9bf",
   "metadata": {},
   "outputs": [
    {
     "data": {
      "text/plain": [
       "Text(0.5, 1.0, 'Temperatura')"
      ]
     },
     "execution_count": 68,
     "metadata": {},
     "output_type": "execute_result"
    },
    {
     "data": {
      "image/png": "[encoded data removed]",
      "text/plain": [
       "<Figure size 432x288 with 1 Axes>"
      ]
     },
     "metadata": {
      "needs_background": "light"
     },
     "output_type": "display_data"
    }
   ],
   "source": [
    "sns.boxplot(x=base['Temperatura']).set_title(\"Temperatura\")"
   ]
  },
  {
   "cell_type": "code",
   "execution_count": 69,
   "id": "8d9848b4",
   "metadata": {},
   "outputs": [
    {
     "data": {
      "text/plain": [
       "0"
      ]
     },
     "execution_count": 69,
     "metadata": {},
     "output_type": "execute_result"
    }
   ],
   "source": [
    "base['Temperatura'].isnull().sum()"
   ]
  },
  {
   "cell_type": "code",
   "execution_count": 70,
   "id": "5e2902eb",
   "metadata": {},
   "outputs": [
    {
     "data": {
      "text/html": [
       "<div>\n",
       "<style scoped>\n",
       "    .dataframe tbody tr th:only-of-type {\n",
       "        vertical-align: middle;\n",
       "    }\n",
       "\n",
       "    .dataframe tbody tr th {\n",
       "        vertical-align: top;\n",
       "    }\n",
       "\n",
       "    .dataframe thead th {\n",
       "        text-align: right;\n",
       "    }\n",
       "</style>\n",
       "<table border=\"1\" class=\"dataframe\">\n",
       "  <thead>\n",
       "    <tr style=\"text-align: right;\">\n",
       "      <th></th>\n",
       "      <th>Aparencia</th>\n",
       "      <th>Temperatura</th>\n",
       "      <th>Umidade</th>\n",
       "      <th>Vento</th>\n",
       "      <th>Jogar</th>\n",
       "    </tr>\n",
       "  </thead>\n",
       "  <tbody>\n",
       "    <tr>\n",
       "      <th>7</th>\n",
       "      <td>sol</td>\n",
       "      <td>1220</td>\n",
       "      <td>95.0</td>\n",
       "      <td>FALSO</td>\n",
       "      <td>nao</td>\n",
       "    </tr>\n",
       "  </tbody>\n",
       "</table>\n",
       "</div>"
      ],
      "text/plain": [
       "  Aparencia  Temperatura  Umidade  Vento Jogar\n",
       "7       sol         1220     95.0  FALSO   nao"
      ]
     },
     "execution_count": 70,
     "metadata": {},
     "output_type": "execute_result"
    }
   ],
   "source": [
    "base.loc[(base['Temperatura'] < - 130) | (base['Temperatura'] > 130)]"
   ]
  },
  {
   "cell_type": "code",
   "execution_count": 72,
   "id": "87fc2a69",
   "metadata": {},
   "outputs": [
    {
     "data": {
      "text/plain": [
       "73.5"
      ]
     },
     "execution_count": 72,
     "metadata": {},
     "output_type": "execute_result"
    }
   ],
   "source": [
    "# Confirmamos que temos apenas um valor para corrigir.\n",
    "# E como é uma coluna de valor numérico vamos corrigir substituindo pela mediana.\n",
    "mediana_temp = sts.median(base['Temperatura'])\n",
    "mediana_temp"
   ]
  },
  {
   "cell_type": "code",
   "execution_count": 73,
   "id": "23f11474",
   "metadata": {},
   "outputs": [],
   "source": [
    "# Substituindo o valor pela mediana.\n",
    "base.loc[(base['Temperatura'] < - 130) | (base['Temperatura'] > 130), 'Temperatura'] = mediana_temp"
   ]
  },
  {
   "cell_type": "code",
   "execution_count": 74,
   "id": "ba87e1fd",
   "metadata": {},
   "outputs": [
    {
     "data": {
      "text/html": [
       "<div>\n",
       "<style scoped>\n",
       "    .dataframe tbody tr th:only-of-type {\n",
       "        vertical-align: middle;\n",
       "    }\n",
       "\n",
       "    .dataframe tbody tr th {\n",
       "        vertical-align: top;\n",
       "    }\n",
       "\n",
       "    .dataframe thead th {\n",
       "        text-align: right;\n",
       "    }\n",
       "</style>\n",
       "<table border=\"1\" class=\"dataframe\">\n",
       "  <thead>\n",
       "    <tr style=\"text-align: right;\">\n",
       "      <th></th>\n",
       "      <th>Aparencia</th>\n",
       "      <th>Temperatura</th>\n",
       "      <th>Umidade</th>\n",
       "      <th>Vento</th>\n",
       "      <th>Jogar</th>\n",
       "    </tr>\n",
       "  </thead>\n",
       "  <tbody>\n",
       "  </tbody>\n",
       "</table>\n",
       "</div>"
      ],
      "text/plain": [
       "Empty DataFrame\n",
       "Columns: [Aparencia, Temperatura, Umidade, Vento, Jogar]\n",
       "Index: []"
      ]
     },
     "execution_count": 74,
     "metadata": {},
     "output_type": "execute_result"
    }
   ],
   "source": [
    "# Confirmando a correção dos dados e a subtituição:\n",
    "base.loc[(base['Temperatura'] < - 130) | (base['Temperatura'] > 130)]"
   ]
  },
  {
   "cell_type": "code",
   "execution_count": 75,
   "id": "e6012cf4",
   "metadata": {},
   "outputs": [
    {
     "data": {
      "text/plain": [
       "count     13.000000\n",
       "mean      89.769231\n",
       "std       34.540203\n",
       "min       65.000000\n",
       "25%       70.000000\n",
       "50%       85.000000\n",
       "75%       90.000000\n",
       "max      200.000000\n",
       "Name: Umidade, dtype: float64"
      ]
     },
     "execution_count": 75,
     "metadata": {},
     "output_type": "execute_result"
    }
   ],
   "source": [
    "# Trantando 3ª coluna 'Umidade'\n",
    "# Relembrando os dados\n",
    "umidade"
   ]
  },
  {
   "cell_type": "code",
   "execution_count": 78,
   "id": "7167d779",
   "metadata": {},
   "outputs": [
    {
     "data": {
      "text/html": [
       "<div>\n",
       "<style scoped>\n",
       "    .dataframe tbody tr th:only-of-type {\n",
       "        vertical-align: middle;\n",
       "    }\n",
       "\n",
       "    .dataframe tbody tr th {\n",
       "        vertical-align: top;\n",
       "    }\n",
       "\n",
       "    .dataframe thead th {\n",
       "        text-align: right;\n",
       "    }\n",
       "</style>\n",
       "<table border=\"1\" class=\"dataframe\">\n",
       "  <thead>\n",
       "    <tr style=\"text-align: right;\">\n",
       "      <th></th>\n",
       "      <th>Aparencia</th>\n",
       "      <th>Temperatura</th>\n",
       "      <th>Umidade</th>\n",
       "      <th>Vento</th>\n",
       "      <th>Jogar</th>\n",
       "    </tr>\n",
       "  </thead>\n",
       "  <tbody>\n",
       "    <tr>\n",
       "      <th>9</th>\n",
       "      <td>chuva</td>\n",
       "      <td>75.0</td>\n",
       "      <td>200.0</td>\n",
       "      <td>NaN</td>\n",
       "      <td>sim</td>\n",
       "    </tr>\n",
       "  </tbody>\n",
       "</table>\n",
       "</div>"
      ],
      "text/plain": [
       "  Aparencia  Temperatura  Umidade Vento Jogar\n",
       "9     chuva         75.0    200.0   NaN   sim"
      ]
     },
     "execution_count": 78,
     "metadata": {},
     "output_type": "execute_result"
    }
   ],
   "source": [
    "# Vendos quantos valores estão fora do domínio\n",
    "base.loc[(base['Umidade'] < 0) | (base['Umidade'] > 100)]"
   ]
  },
  {
   "cell_type": "code",
   "execution_count": 79,
   "id": "c2e9c97b",
   "metadata": {},
   "outputs": [
    {
     "data": {
      "text/plain": [
       "1"
      ]
     },
     "execution_count": 79,
     "metadata": {},
     "output_type": "execute_result"
    }
   ],
   "source": [
    "base['Umidade'].isnull().sum()"
   ]
  },
  {
   "cell_type": "code",
   "execution_count": 81,
   "id": "c085e680",
   "metadata": {},
   "outputs": [
    {
     "data": {
      "text/plain": [
       "85.5"
      ]
     },
     "execution_count": 81,
     "metadata": {},
     "output_type": "execute_result"
    }
   ],
   "source": [
    "# Como é um valor numérico vamos preencher o valor nulo e substituir o valor fora do domínio pela mediana dos valores da coluna.\n",
    "mediana_umid = sts.median(base['Umidade'])\n",
    "mediana_umid"
   ]
  },
  {
   "cell_type": "code",
   "execution_count": 84,
   "id": "fa4da474",
   "metadata": {},
   "outputs": [],
   "source": [
    "# Preenchendo o valor nulo primeiro\n",
    "base['Umidade'].fillna(mediana_umid, inplace=True)"
   ]
  },
  {
   "cell_type": "code",
   "execution_count": 83,
   "id": "8710a203",
   "metadata": {},
   "outputs": [
    {
     "data": {
      "text/plain": [
       "0"
      ]
     },
     "execution_count": 83,
     "metadata": {},
     "output_type": "execute_result"
    }
   ],
   "source": [
    "# Verificando valor nulo\n",
    "base['Umidade'].isnull().sum()"
   ]
  },
  {
   "cell_type": "code",
   "execution_count": 86,
   "id": "f7eb2eaf",
   "metadata": {},
   "outputs": [],
   "source": [
    "# Substituindo o valor fora de dominio\n",
    "base.loc[(base['Umidade'] < 0) | (base['Umidade'] > 100), 'Umidade'] = mediana_umid"
   ]
  },
  {
   "cell_type": "code",
   "execution_count": 87,
   "id": "06705573",
   "metadata": {},
   "outputs": [
    {
     "data": {
      "text/html": [
       "<div>\n",
       "<style scoped>\n",
       "    .dataframe tbody tr th:only-of-type {\n",
       "        vertical-align: middle;\n",
       "    }\n",
       "\n",
       "    .dataframe tbody tr th {\n",
       "        vertical-align: top;\n",
       "    }\n",
       "\n",
       "    .dataframe thead th {\n",
       "        text-align: right;\n",
       "    }\n",
       "</style>\n",
       "<table border=\"1\" class=\"dataframe\">\n",
       "  <thead>\n",
       "    <tr style=\"text-align: right;\">\n",
       "      <th></th>\n",
       "      <th>Aparencia</th>\n",
       "      <th>Temperatura</th>\n",
       "      <th>Umidade</th>\n",
       "      <th>Vento</th>\n",
       "      <th>Jogar</th>\n",
       "    </tr>\n",
       "  </thead>\n",
       "  <tbody>\n",
       "  </tbody>\n",
       "</table>\n",
       "</div>"
      ],
      "text/plain": [
       "Empty DataFrame\n",
       "Columns: [Aparencia, Temperatura, Umidade, Vento, Jogar]\n",
       "Index: []"
      ]
     },
     "execution_count": 87,
     "metadata": {},
     "output_type": "execute_result"
    }
   ],
   "source": [
    "# Verificando valor fora de domínio\n",
    "base.loc[(base['Umidade'] < 0) | (base['Umidade'] > 100)]"
   ]
  },
  {
   "cell_type": "code",
   "execution_count": 88,
   "id": "d61c693a",
   "metadata": {},
   "outputs": [
    {
     "data": {
      "text/plain": [
       "Vento\n",
       "FALSO         7\n",
       "VERDADEIRO    6\n",
       "dtype: int64"
      ]
     },
     "execution_count": 88,
     "metadata": {},
     "output_type": "execute_result"
    }
   ],
   "source": [
    "# Trantando 4ª coluna 'Vento'\n",
    "# Lembrando dos dados\n",
    "vento"
   ]
  },
  {
   "cell_type": "code",
   "execution_count": 89,
   "id": "95234842",
   "metadata": {},
   "outputs": [
    {
     "data": {
      "text/plain": [
       "1"
      ]
     },
     "execution_count": 89,
     "metadata": {},
     "output_type": "execute_result"
    }
   ],
   "source": [
    "base['Vento'].isnull().sum()"
   ]
  },
  {
   "cell_type": "code",
   "execution_count": 90,
   "id": "45fb3aba",
   "metadata": {},
   "outputs": [],
   "source": [
    "# Não tem valor fora do domínio somente 1 valor nulo\n",
    "# Como é uma coluna com valor categórico iremos preencher os valores nulos pela moda da coluna que no caso é 'FALSO'\n",
    "base['Vento'].fillna('Falso', inplace=True)"
   ]
  },
  {
   "cell_type": "code",
   "execution_count": 92,
   "id": "d948d36a",
   "metadata": {},
   "outputs": [
    {
     "data": {
      "text/plain": [
       "0"
      ]
     },
     "execution_count": 92,
     "metadata": {},
     "output_type": "execute_result"
    }
   ],
   "source": [
    "# Verificando valores nulos.\n",
    "base['Vento'].isnull().sum()"
   ]
  },
  {
   "cell_type": "code",
   "execution_count": null,
   "id": "a4723ab8",
   "metadata": {},
   "outputs": [],
   "source": []
  }
 ],
 "metadata": {
  "kernelspec": {
   "display_name": "Python 3 (ipykernel)",
   "language": "python",
   "name": "python3"
  },
  "language_info": {
   "codemirror_mode": {
    "name": "ipython",
    "version": 3
   },
   "file_extension": ".py",
   "mimetype": "text/x-python",
   "name": "python",
   "nbconvert_exporter": "python",
   "pygments_lexer": "ipython3",
   "version": "3.9.12"
  }
 },
 "nbformat": 4,
 "nbformat_minor": 5
}
